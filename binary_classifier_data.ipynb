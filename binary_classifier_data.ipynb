{
  "nbformat": 4,
  "nbformat_minor": 0,
  "metadata": {
    "colab": {
      "name": "binary_classifier_data.ipynb",
      "provenance": [],
      "collapsed_sections": [],
      "authorship_tag": "ABX9TyPh/S3BEeoUNcZFeNI+kLQM",
      "include_colab_link": true
    },
    "kernelspec": {
      "name": "python3",
      "display_name": "Python 3"
    }
  },
  "cells": [
    {
      "cell_type": "markdown",
      "metadata": {
        "id": "view-in-github",
        "colab_type": "text"
      },
      "source": [
        "<a href=\"https://colab.research.google.com/github/OmarKhaledAbdlhafez/binary_classifier_data/blob/master/binary_classifier_data.ipynb\" target=\"_parent\"><img src=\"https://colab.research.google.com/assets/colab-badge.svg\" alt=\"Open In Colab\"/></a>"
      ]
    },
    {
      "cell_type": "code",
      "metadata": {
        "id": "gT2V6gncnYWK",
        "colab_type": "code",
        "colab": {
          "base_uri": "https://localhost:8080/",
          "height": 128
        },
        "outputId": "79409c99-0524-4a54-f5aa-feb059821c4e"
      },
      "source": [
        "from google.colab import drive\n",
        "drive.mount('/content/drive')"
      ],
      "execution_count": null,
      "outputs": [
        {
          "output_type": "stream",
          "text": [
            "Go to this URL in a browser: https://accounts.google.com/o/oauth2/auth?client_id=947318989803-6bn6qk8qdgf4n4g3pfee6491hc0brc4i.apps.googleusercontent.com&redirect_uri=urn%3aietf%3awg%3aoauth%3a2.0%3aoob&response_type=code&scope=email%20https%3a%2f%2fwww.googleapis.com%2fauth%2fdocs.test%20https%3a%2f%2fwww.googleapis.com%2fauth%2fdrive%20https%3a%2f%2fwww.googleapis.com%2fauth%2fdrive.photos.readonly%20https%3a%2f%2fwww.googleapis.com%2fauth%2fpeopleapi.readonly\n",
            "\n",
            "Enter your authorization code:\n",
            "··········\n",
            "Mounted at /content/drive\n"
          ],
          "name": "stdout"
        }
      ]
    },
    {
      "cell_type": "markdown",
      "metadata": {
        "id": "Dqa5eHeK7xqR",
        "colab_type": "text"
      },
      "source": [
        "# **Introduction**\n",
        " \n",
        "Given the training and validation datasets, http://bit.ly/widebot-new-binclf-data  , Create and train a machine learning model using the training set that performs well on the validation set. You should decide on the metrics of \"performance\" yourself, We will assess your decision.\n",
        "\n"
      ]
    },
    {
      "cell_type": "code",
      "metadata": {
        "id": "c05sytCJnpbc",
        "colab_type": "code",
        "colab": {}
      },
      "source": [
        "import pandas as pd \n",
        "import numpy as np \n",
        "import matplotlib.pyplot as plt\n",
        "from sklearn.preprocessing import RobustScaler\n",
        "from sklearn.preprocessing import OneHotEncoder\n",
        "from sklearn.model_selection import train_test_split\n",
        "from sklearn.svm import SVC\n",
        "from sklearn.metrics import classification_report, confusion_matrix"
      ],
      "execution_count": null,
      "outputs": []
    },
    {
      "cell_type": "markdown",
      "metadata": {
        "id": "MJHgeJqu8MqO",
        "colab_type": "text"
      },
      "source": [
        "# **Exploratory data analysis**\n",
        "\n",
        "load the dataset and explor it and extract information \n"
      ]
    },
    {
      "cell_type": "code",
      "metadata": {
        "id": "X4o0eckXn4k9",
        "colab_type": "code",
        "colab": {
          "base_uri": "https://localhost:8080/",
          "height": 218
        },
        "outputId": "be683d8b-a365-4cb7-8d9c-5cf6cd88511e"
      },
      "source": [
        "df = pd.read_csv('training.csv',sep=';')\n",
        "df.head()"
      ],
      "execution_count": null,
      "outputs": [
        {
          "output_type": "execute_result",
          "data": {
            "text/html": [
              "<div>\n",
              "<style scoped>\n",
              "    .dataframe tbody tr th:only-of-type {\n",
              "        vertical-align: middle;\n",
              "    }\n",
              "\n",
              "    .dataframe tbody tr th {\n",
              "        vertical-align: top;\n",
              "    }\n",
              "\n",
              "    .dataframe thead th {\n",
              "        text-align: right;\n",
              "    }\n",
              "</style>\n",
              "<table border=\"1\" class=\"dataframe\">\n",
              "  <thead>\n",
              "    <tr style=\"text-align: right;\">\n",
              "      <th></th>\n",
              "      <th>variable1</th>\n",
              "      <th>variable2</th>\n",
              "      <th>variable3</th>\n",
              "      <th>variable4</th>\n",
              "      <th>variable5</th>\n",
              "      <th>variable6</th>\n",
              "      <th>variable7</th>\n",
              "      <th>variable8</th>\n",
              "      <th>variable9</th>\n",
              "      <th>variable10</th>\n",
              "      <th>variable11</th>\n",
              "      <th>variable12</th>\n",
              "      <th>variable13</th>\n",
              "      <th>variable14</th>\n",
              "      <th>variable15</th>\n",
              "      <th>variable17</th>\n",
              "      <th>variable18</th>\n",
              "      <th>variable19</th>\n",
              "      <th>classLabel</th>\n",
              "    </tr>\n",
              "  </thead>\n",
              "  <tbody>\n",
              "    <tr>\n",
              "      <th>0</th>\n",
              "      <td>a</td>\n",
              "      <td>17,92</td>\n",
              "      <td>5,4e-05</td>\n",
              "      <td>u</td>\n",
              "      <td>g</td>\n",
              "      <td>c</td>\n",
              "      <td>v</td>\n",
              "      <td>1,75</td>\n",
              "      <td>f</td>\n",
              "      <td>t</td>\n",
              "      <td>1</td>\n",
              "      <td>t</td>\n",
              "      <td>g</td>\n",
              "      <td>80.0</td>\n",
              "      <td>5</td>\n",
              "      <td>800000.0</td>\n",
              "      <td>t</td>\n",
              "      <td>0</td>\n",
              "      <td>no.</td>\n",
              "    </tr>\n",
              "    <tr>\n",
              "      <th>1</th>\n",
              "      <td>b</td>\n",
              "      <td>16,92</td>\n",
              "      <td>3,35e-05</td>\n",
              "      <td>y</td>\n",
              "      <td>p</td>\n",
              "      <td>k</td>\n",
              "      <td>v</td>\n",
              "      <td>0,29</td>\n",
              "      <td>f</td>\n",
              "      <td>f</td>\n",
              "      <td>0</td>\n",
              "      <td>f</td>\n",
              "      <td>s</td>\n",
              "      <td>200.0</td>\n",
              "      <td>0</td>\n",
              "      <td>2000000.0</td>\n",
              "      <td>NaN</td>\n",
              "      <td>0</td>\n",
              "      <td>no.</td>\n",
              "    </tr>\n",
              "    <tr>\n",
              "      <th>2</th>\n",
              "      <td>b</td>\n",
              "      <td>31,25</td>\n",
              "      <td>0,0001125</td>\n",
              "      <td>u</td>\n",
              "      <td>g</td>\n",
              "      <td>ff</td>\n",
              "      <td>ff</td>\n",
              "      <td>0</td>\n",
              "      <td>f</td>\n",
              "      <td>t</td>\n",
              "      <td>1</td>\n",
              "      <td>f</td>\n",
              "      <td>g</td>\n",
              "      <td>96.0</td>\n",
              "      <td>19</td>\n",
              "      <td>960000.0</td>\n",
              "      <td>t</td>\n",
              "      <td>0</td>\n",
              "      <td>no.</td>\n",
              "    </tr>\n",
              "    <tr>\n",
              "      <th>3</th>\n",
              "      <td>a</td>\n",
              "      <td>48,17</td>\n",
              "      <td>0,0001335</td>\n",
              "      <td>u</td>\n",
              "      <td>g</td>\n",
              "      <td>i</td>\n",
              "      <td>o</td>\n",
              "      <td>0,335</td>\n",
              "      <td>f</td>\n",
              "      <td>f</td>\n",
              "      <td>0</td>\n",
              "      <td>f</td>\n",
              "      <td>g</td>\n",
              "      <td>0.0</td>\n",
              "      <td>120</td>\n",
              "      <td>0.0</td>\n",
              "      <td>NaN</td>\n",
              "      <td>0</td>\n",
              "      <td>no.</td>\n",
              "    </tr>\n",
              "    <tr>\n",
              "      <th>4</th>\n",
              "      <td>b</td>\n",
              "      <td>32,33</td>\n",
              "      <td>0,00035</td>\n",
              "      <td>u</td>\n",
              "      <td>g</td>\n",
              "      <td>k</td>\n",
              "      <td>v</td>\n",
              "      <td>0,5</td>\n",
              "      <td>f</td>\n",
              "      <td>f</td>\n",
              "      <td>0</td>\n",
              "      <td>t</td>\n",
              "      <td>g</td>\n",
              "      <td>232.0</td>\n",
              "      <td>0</td>\n",
              "      <td>2320000.0</td>\n",
              "      <td>f</td>\n",
              "      <td>0</td>\n",
              "      <td>no.</td>\n",
              "    </tr>\n",
              "  </tbody>\n",
              "</table>\n",
              "</div>"
            ],
            "text/plain": [
              "  variable1 variable2  variable3  ... variable18 variable19 classLabel\n",
              "0         a     17,92    5,4e-05  ...          t          0        no.\n",
              "1         b     16,92   3,35e-05  ...        NaN          0        no.\n",
              "2         b     31,25  0,0001125  ...          t          0        no.\n",
              "3         a     48,17  0,0001335  ...        NaN          0        no.\n",
              "4         b     32,33    0,00035  ...          f          0        no.\n",
              "\n",
              "[5 rows x 19 columns]"
            ]
          },
          "metadata": {
            "tags": []
          },
          "execution_count": 61
        }
      ]
    },
    {
      "cell_type": "code",
      "metadata": {
        "id": "bs74mrWEoByo",
        "colab_type": "code",
        "colab": {
          "base_uri": "https://localhost:8080/",
          "height": 288
        },
        "outputId": "eda90517-fbc6-4960-f4d0-f69713367b13"
      },
      "source": [
        "df.describe()"
      ],
      "execution_count": null,
      "outputs": [
        {
          "output_type": "execute_result",
          "data": {
            "text/html": [
              "<div>\n",
              "<style scoped>\n",
              "    .dataframe tbody tr th:only-of-type {\n",
              "        vertical-align: middle;\n",
              "    }\n",
              "\n",
              "    .dataframe tbody tr th {\n",
              "        vertical-align: top;\n",
              "    }\n",
              "\n",
              "    .dataframe thead th {\n",
              "        text-align: right;\n",
              "    }\n",
              "</style>\n",
              "<table border=\"1\" class=\"dataframe\">\n",
              "  <thead>\n",
              "    <tr style=\"text-align: right;\">\n",
              "      <th></th>\n",
              "      <th>variable11</th>\n",
              "      <th>variable14</th>\n",
              "      <th>variable15</th>\n",
              "      <th>variable17</th>\n",
              "      <th>variable19</th>\n",
              "    </tr>\n",
              "  </thead>\n",
              "  <tbody>\n",
              "    <tr>\n",
              "      <th>count</th>\n",
              "      <td>3700.000000</td>\n",
              "      <td>3600.000000</td>\n",
              "      <td>3700.000000</td>\n",
              "      <td>3.600000e+03</td>\n",
              "      <td>3700.000000</td>\n",
              "    </tr>\n",
              "    <tr>\n",
              "      <th>mean</th>\n",
              "      <td>4.160000</td>\n",
              "      <td>162.695000</td>\n",
              "      <td>2246.705946</td>\n",
              "      <td>1.626950e+06</td>\n",
              "      <td>0.925405</td>\n",
              "    </tr>\n",
              "    <tr>\n",
              "      <th>std</th>\n",
              "      <td>6.750553</td>\n",
              "      <td>156.045682</td>\n",
              "      <td>8708.571126</td>\n",
              "      <td>1.560457e+06</td>\n",
              "      <td>0.262772</td>\n",
              "    </tr>\n",
              "    <tr>\n",
              "      <th>min</th>\n",
              "      <td>0.000000</td>\n",
              "      <td>0.000000</td>\n",
              "      <td>0.000000</td>\n",
              "      <td>0.000000e+00</td>\n",
              "      <td>0.000000</td>\n",
              "    </tr>\n",
              "    <tr>\n",
              "      <th>25%</th>\n",
              "      <td>0.000000</td>\n",
              "      <td>0.000000</td>\n",
              "      <td>0.000000</td>\n",
              "      <td>0.000000e+00</td>\n",
              "      <td>1.000000</td>\n",
              "    </tr>\n",
              "    <tr>\n",
              "      <th>50%</th>\n",
              "      <td>2.000000</td>\n",
              "      <td>120.000000</td>\n",
              "      <td>113.000000</td>\n",
              "      <td>1.200000e+06</td>\n",
              "      <td>1.000000</td>\n",
              "    </tr>\n",
              "    <tr>\n",
              "      <th>75%</th>\n",
              "      <td>6.000000</td>\n",
              "      <td>280.000000</td>\n",
              "      <td>1059.750000</td>\n",
              "      <td>2.800000e+06</td>\n",
              "      <td>1.000000</td>\n",
              "    </tr>\n",
              "    <tr>\n",
              "      <th>max</th>\n",
              "      <td>67.000000</td>\n",
              "      <td>1160.000000</td>\n",
              "      <td>100000.000000</td>\n",
              "      <td>1.160000e+07</td>\n",
              "      <td>1.000000</td>\n",
              "    </tr>\n",
              "  </tbody>\n",
              "</table>\n",
              "</div>"
            ],
            "text/plain": [
              "        variable11   variable14     variable15    variable17   variable19\n",
              "count  3700.000000  3600.000000    3700.000000  3.600000e+03  3700.000000\n",
              "mean      4.160000   162.695000    2246.705946  1.626950e+06     0.925405\n",
              "std       6.750553   156.045682    8708.571126  1.560457e+06     0.262772\n",
              "min       0.000000     0.000000       0.000000  0.000000e+00     0.000000\n",
              "25%       0.000000     0.000000       0.000000  0.000000e+00     1.000000\n",
              "50%       2.000000   120.000000     113.000000  1.200000e+06     1.000000\n",
              "75%       6.000000   280.000000    1059.750000  2.800000e+06     1.000000\n",
              "max      67.000000  1160.000000  100000.000000  1.160000e+07     1.000000"
            ]
          },
          "metadata": {
            "tags": []
          },
          "execution_count": 5
        }
      ]
    },
    {
      "cell_type": "code",
      "metadata": {
        "id": "94QZYc0KoDWN",
        "colab_type": "code",
        "colab": {
          "base_uri": "https://localhost:8080/",
          "height": 490
        },
        "outputId": "d644507f-046e-4b98-aac6-5ee85dfc3aa5"
      },
      "source": [
        "df.info()"
      ],
      "execution_count": null,
      "outputs": [
        {
          "output_type": "stream",
          "text": [
            "<class 'pandas.core.frame.DataFrame'>\n",
            "RangeIndex: 3700 entries, 0 to 3699\n",
            "Data columns (total 19 columns):\n",
            " #   Column      Non-Null Count  Dtype  \n",
            "---  ------      --------------  -----  \n",
            " 0   variable1   3661 non-null   object \n",
            " 1   variable2   3661 non-null   object \n",
            " 2   variable3   3700 non-null   object \n",
            " 3   variable4   3636 non-null   object \n",
            " 4   variable5   3636 non-null   object \n",
            " 5   variable6   3634 non-null   object \n",
            " 6   variable7   3634 non-null   object \n",
            " 7   variable8   3700 non-null   object \n",
            " 8   variable9   3700 non-null   object \n",
            " 9   variable10  3700 non-null   object \n",
            " 10  variable11  3700 non-null   int64  \n",
            " 11  variable12  3700 non-null   object \n",
            " 12  variable13  3700 non-null   object \n",
            " 13  variable14  3600 non-null   float64\n",
            " 14  variable15  3700 non-null   int64  \n",
            " 15  variable17  3600 non-null   float64\n",
            " 16  variable18  1555 non-null   object \n",
            " 17  variable19  3700 non-null   int64  \n",
            " 18  classLabel  3700 non-null   object \n",
            "dtypes: float64(2), int64(3), object(14)\n",
            "memory usage: 549.3+ KB\n"
          ],
          "name": "stdout"
        }
      ]
    },
    {
      "cell_type": "code",
      "metadata": {
        "id": "oW7VP3OsoLU6",
        "colab_type": "code",
        "colab": {
          "base_uri": "https://localhost:8080/",
          "height": 283
        },
        "outputId": "60a2892e-5e46-4373-d1d7-78d2146f2a88"
      },
      "source": [
        "df.isnull().sum().plot(kind='barh')"
      ],
      "execution_count": null,
      "outputs": [
        {
          "output_type": "execute_result",
          "data": {
            "text/plain": [
              "<matplotlib.axes._subplots.AxesSubplot at 0x7feaeba74438>"
            ]
          },
          "metadata": {
            "tags": []
          },
          "execution_count": 7
        },
        {
          "output_type": "display_data",
          "data": {
            "image/png": "[encoded data removed]",
            "text/plain": [
              "<Figure size 432x288 with 1 Axes>"
            ]
          },
          "metadata": {
            "tags": [],
            "needs_background": "light"
          }
        }
      ]
    },
    {
      "cell_type": "code",
      "metadata": {
        "id": "x8Uj9KJToOu-",
        "colab_type": "code",
        "colab": {
          "base_uri": "https://localhost:8080/",
          "height": 337
        },
        "outputId": "428df173-0648-496c-d5ac-246b44509620"
      },
      "source": [
        "print(df['classLabel'].value_counts())\n",
        "df['classLabel'].value_counts().plot(kind='barh')"
      ],
      "execution_count": null,
      "outputs": [
        {
          "output_type": "stream",
          "text": [
            "yes.    3424\n",
            "no.      276\n",
            "Name: classLabel, dtype: int64\n"
          ],
          "name": "stdout"
        },
        {
          "output_type": "execute_result",
          "data": {
            "text/plain": [
              "<matplotlib.axes._subplots.AxesSubplot at 0x7feaeb4b6780>"
            ]
          },
          "metadata": {
            "tags": []
          },
          "execution_count": 9
        },
        {
          "output_type": "display_data",
          "data": {
            "image/png": "[encoded data removed]",
            "text/plain": [
              "<Figure size 432x288 with 1 Axes>"
            ]
          },
          "metadata": {
            "tags": [],
            "needs_background": "light"
          }
        }
      ]
    },
    {
      "cell_type": "code",
      "metadata": {
        "id": "TvsPxbSFojGV",
        "colab_type": "code",
        "colab": {}
      },
      "source": [
        "num=[ 'variable14', 'variable15','variable17','variable19']\n",
        "cat=['variable1','variable4','variable5','variable6','variable7','variable9','variable10','variable12','variable13']"
      ],
      "execution_count": null,
      "outputs": []
    },
    {
      "cell_type": "code",
      "metadata": {
        "id": "ETZDCVETpCOx",
        "colab_type": "code",
        "colab": {
          "base_uri": "https://localhost:8080/",
          "height": 295
        },
        "outputId": "7141a2eb-db73-4fc5-c629-e9ffda35fc1e"
      },
      "source": [
        "df.boxplot(column=num)"
      ],
      "execution_count": null,
      "outputs": [
        {
          "output_type": "execute_result",
          "data": {
            "text/plain": [
              "<matplotlib.axes._subplots.AxesSubplot at 0x7feaeb14f128>"
            ]
          },
          "metadata": {
            "tags": []
          },
          "execution_count": 18
        },
        {
          "output_type": "display_data",
          "data": {
            "image/png": "[encoded data removed]",
            "text/plain": [
              "<Figure size 432x288 with 1 Axes>"
            ]
          },
          "metadata": {
            "tags": [],
            "needs_background": "light"
          }
        }
      ]
    },
    {
      "cell_type": "code",
      "metadata": {
        "id": "wqtdOB0cpoyP",
        "colab_type": "code",
        "colab": {
          "base_uri": "https://localhost:8080/",
          "height": 455
        },
        "outputId": "5713ff70-4ad2-4cb6-bc72-7ec7162d47eb"
      },
      "source": [
        "!pip install dabl"
      ],
      "execution_count": null,
      "outputs": [
        {
          "output_type": "stream",
          "text": [
            "Collecting dabl\n",
            "\u001b[?25l  Downloading https://files.pythonhosted.org/packages/7d/9b/0cc2a5da8735e584af715829268ea37edf0dba4f9870c2ee0c376d0de290/dabl-0.1.8.tar.gz (559kB)\n",
            "\r\u001b[K     |▋                               | 10kB 18.2MB/s eta 0:00:01\r\u001b[K     |█▏                              | 20kB 6.0MB/s eta 0:00:01\r\u001b[K     |█▊                              | 30kB 7.7MB/s eta 0:00:01\r\u001b[K     |██▍                             | 40kB 5.3MB/s eta 0:00:01\r\u001b[K     |███                             | 51kB 4.7MB/s eta 0:00:01\r\u001b[K     |███▌                            | 61kB 4.5MB/s eta 0:00:01\r\u001b[K     |████                            | 71kB 4.7MB/s eta 0:00:01\r\u001b[K     |████▊                           | 81kB 4.5MB/s eta 0:00:01\r\u001b[K     |█████▎                          | 92kB 4.7MB/s eta 0:00:01\r\u001b[K     |█████▉                          | 102kB 4.9MB/s eta 0:00:01\r\u001b[K     |██████▍                         | 112kB 4.9MB/s eta 0:00:01\r\u001b[K     |███████                         | 122kB 4.9MB/s eta 0:00:01\r\u001b[K     |███████▋                        | 133kB 4.9MB/s eta 0:00:01\r\u001b[K     |████████▏                       | 143kB 4.9MB/s eta 0:00:01\r\u001b[K     |████████▊                       | 153kB 4.9MB/s eta 0:00:01\r\u001b[K     |█████████▍                      | 163kB 4.9MB/s eta 0:00:01\r\u001b[K     |██████████                      | 174kB 4.9MB/s eta 0:00:01\r\u001b[K     |██████████▌                     | 184kB 4.9MB/s eta 0:00:01\r\u001b[K     |███████████▏                    | 194kB 4.9MB/s eta 0:00:01\r\u001b[K     |███████████▊                    | 204kB 4.9MB/s eta 0:00:01\r\u001b[K     |████████████▎                   | 215kB 4.9MB/s eta 0:00:01\r\u001b[K     |████████████▉                   | 225kB 4.9MB/s eta 0:00:01\r\u001b[K     |█████████████▌                  | 235kB 4.9MB/s eta 0:00:01\r\u001b[K     |██████████████                  | 245kB 4.9MB/s eta 0:00:01\r\u001b[K     |██████████████▋                 | 256kB 4.9MB/s eta 0:00:01\r\u001b[K     |███████████████▏                | 266kB 4.9MB/s eta 0:00:01\r\u001b[K     |███████████████▉                | 276kB 4.9MB/s eta 0:00:01\r\u001b[K     |████████████████▍               | 286kB 4.9MB/s eta 0:00:01\r\u001b[K     |█████████████████               | 296kB 4.9MB/s eta 0:00:01\r\u001b[K     |█████████████████▌              | 307kB 4.9MB/s eta 0:00:01\r\u001b[K     |██████████████████▏             | 317kB 4.9MB/s eta 0:00:01\r\u001b[K     |██████████████████▊             | 327kB 4.9MB/s eta 0:00:01\r\u001b[K     |███████████████████▎            | 337kB 4.9MB/s eta 0:00:01\r\u001b[K     |████████████████████            | 348kB 4.9MB/s eta 0:00:01\r\u001b[K     |████████████████████▌           | 358kB 4.9MB/s eta 0:00:01\r\u001b[K     |█████████████████████           | 368kB 4.9MB/s eta 0:00:01\r\u001b[K     |█████████████████████▋          | 378kB 4.9MB/s eta 0:00:01\r\u001b[K     |██████████████████████▎         | 389kB 4.9MB/s eta 0:00:01\r\u001b[K     |██████████████████████▉         | 399kB 4.9MB/s eta 0:00:01\r\u001b[K     |███████████████████████▍        | 409kB 4.9MB/s eta 0:00:01\r\u001b[K     |████████████████████████        | 419kB 4.9MB/s eta 0:00:01\r\u001b[K     |████████████████████████▋       | 430kB 4.9MB/s eta 0:00:01\r\u001b[K     |█████████████████████████▏      | 440kB 4.9MB/s eta 0:00:01\r\u001b[K     |█████████████████████████▊      | 450kB 4.9MB/s eta 0:00:01\r\u001b[K     |██████████████████████████▎     | 460kB 4.9MB/s eta 0:00:01\r\u001b[K     |███████████████████████████     | 471kB 4.9MB/s eta 0:00:01\r\u001b[K     |███████████████████████████▌    | 481kB 4.9MB/s eta 0:00:01\r\u001b[K     |████████████████████████████    | 491kB 4.9MB/s eta 0:00:01\r\u001b[K     |████████████████████████████▊   | 501kB 4.9MB/s eta 0:00:01\r\u001b[K     |█████████████████████████████▎  | 512kB 4.9MB/s eta 0:00:01\r\u001b[K     |█████████████████████████████▉  | 522kB 4.9MB/s eta 0:00:01\r\u001b[K     |██████████████████████████████▍ | 532kB 4.9MB/s eta 0:00:01\r\u001b[K     |███████████████████████████████ | 542kB 4.9MB/s eta 0:00:01\r\u001b[K     |███████████████████████████████▋| 552kB 4.9MB/s eta 0:00:01\r\u001b[K     |████████████████████████████████| 563kB 4.9MB/s \n",
            "\u001b[?25hRequirement already satisfied: numpy in /usr/local/lib/python3.6/dist-packages (from dabl) (1.18.5)\n",
            "Requirement already satisfied: scipy in /usr/local/lib/python3.6/dist-packages (from dabl) (1.4.1)\n",
            "Requirement already satisfied: scikit-learn in /usr/local/lib/python3.6/dist-packages (from dabl) (0.22.2.post1)\n",
            "Requirement already satisfied: pandas in /usr/local/lib/python3.6/dist-packages (from dabl) (1.0.5)\n",
            "Requirement already satisfied: matplotlib in /usr/local/lib/python3.6/dist-packages (from dabl) (3.2.2)\n",
            "Requirement already satisfied: seaborn in /usr/local/lib/python3.6/dist-packages (from dabl) (0.10.1)\n",
            "Requirement already satisfied: joblib>=0.11 in /usr/local/lib/python3.6/dist-packages (from scikit-learn->dabl) (0.16.0)\n",
            "Requirement already satisfied: python-dateutil>=2.6.1 in /usr/local/lib/python3.6/dist-packages (from pandas->dabl) (2.8.1)\n",
            "Requirement already satisfied: pytz>=2017.2 in /usr/local/lib/python3.6/dist-packages (from pandas->dabl) (2018.9)\n",
            "Requirement already satisfied: pyparsing!=2.0.4,!=2.1.2,!=2.1.6,>=2.0.1 in /usr/local/lib/python3.6/dist-packages (from matplotlib->dabl) (2.4.7)\n",
            "Requirement already satisfied: cycler>=0.10 in /usr/local/lib/python3.6/dist-packages (from matplotlib->dabl) (0.10.0)\n",
            "Requirement already satisfied: kiwisolver>=1.0.1 in /usr/local/lib/python3.6/dist-packages (from matplotlib->dabl) (1.2.0)\n",
            "Requirement already satisfied: six>=1.5 in /usr/local/lib/python3.6/dist-packages (from python-dateutil>=2.6.1->pandas->dabl) (1.15.0)\n",
            "Building wheels for collected packages: dabl\n",
            "  Building wheel for dabl (setup.py) ... \u001b[?25l\u001b[?25hdone\n",
            "  Created wheel for dabl: filename=dabl-0.1.8-cp36-none-any.whl size=565076 sha256=31673039f05c78f112375cb4f1f224a71a72db4ee5287831fe9d2514c55f01a7\n",
            "  Stored in directory: /root/.cache/pip/wheels/99/8c/79/9d33959b9b8676bf88a2e792075a2a17eda6b1711dc0fedca3\n",
            "Successfully built dabl\n",
            "Installing collected packages: dabl\n",
            "Successfully installed dabl-0.1.8\n"
          ],
          "name": "stdout"
        }
      ]
    },
    {
      "cell_type": "code",
      "metadata": {
        "id": "DZqSAmHoskhw",
        "colab_type": "code",
        "colab": {
          "base_uri": "https://localhost:8080/",
          "height": 1000
        },
        "outputId": "86b79902-2ee2-4491-f207-352904b6a5bb"
      },
      "source": [
        "from dabl import plot\n",
        "plot(df, target_col='classLabel')"
      ],
      "execution_count": null,
      "outputs": [
        {
          "output_type": "stream",
          "text": [
            "Target looks like classification\n",
            "Linear Discriminant Analysis training set score: 0.500\n"
          ],
          "name": "stdout"
        },
        {
          "output_type": "display_data",
          "data": {
            "image/png": "[encoded data removed]",
            "text/plain": [
              "<Figure size 432x288 with 1 Axes>"
            ]
          },
          "metadata": {
            "tags": [],
            "needs_background": "light"
          }
        },
        {
          "output_type": "display_data",
          "data": {
            "image/png": "[encoded data removed]",
            "text/plain": [
              "<Figure size 864x864 with 20 Axes>"
            ]
          },
          "metadata": {
            "tags": [],
            "needs_background": "light"
          }
        },
        {
          "output_type": "display_data",
          "data": {
            "image/png": "[encoded data removed]",
            "text/plain": [
              "<Figure size 1152x288 with 4 Axes>"
            ]
          },
          "metadata": {
            "tags": [],
            "needs_background": "light"
          }
        },
        {
          "output_type": "display_data",
          "data": {
            "image/png": "[encoded data removed]",
            "text/plain": [
              "<Figure size 432x288 with 1 Axes>"
            ]
          },
          "metadata": {
            "tags": [],
            "needs_background": "light"
          }
        },
        {
          "output_type": "display_data",
          "data": {
            "image/png": "[encoded data removed]",
            "text/plain": [
              "<Figure size 1152x1080 with 12 Axes>"
            ]
          },
          "metadata": {
            "tags": [],
            "needs_background": "light"
          }
        }
      ]
    },
    {
      "cell_type": "code",
      "metadata": {
        "id": "F13Vuao2szo1",
        "colab_type": "code",
        "colab": {}
      },
      "source": [
        "val_df=pd.read_csv('validation.csv',sep=';')"
      ],
      "execution_count": null,
      "outputs": []
    },
    {
      "cell_type": "markdown",
      "metadata": {
        "id": "X1OQGgFJ8ysk",
        "colab_type": "text"
      },
      "source": [
        "from this section its look like that the dataset has a lot of missing data  \n",
        "- column which called variable18 has more than half nan rows\n",
        "- it seems that the numerical columns has outliers \n",
        "- var 2 & 3 & 8 i can't determine how to use them they contain alot of number i can't replace , with . and make it a single number and also thinking of split each column   i can't decide the pattern of the col. and i don't any information about the problem to guess the col. determine which feature so i prefer to drop them \n",
        "- the problem here is an imbalanced target  \n",
        "\n",
        "\n"
      ]
    },
    {
      "cell_type": "markdown",
      "metadata": {
        "id": "y6Z4i4T5-aD4",
        "colab_type": "text"
      },
      "source": [
        "# **Clean & Prepare the data set**\n",
        "\n",
        "- imputer the missing data for the categorical columns by put the most freq. in col. \n",
        "- imputer the missing data for the numerical  columns by put the  mean  in col. \n",
        "- scaling numerical  data by using the centering and scaling statistics of this scaler are based on percentiles and are therefore not influenced by a few number of very large marginal outliers.\n",
        "- using the one hot encoder for the categorical columns\n",
        "- Finally drop the old columns and keep the new ones "
      ]
    },
    {
      "cell_type": "code",
      "metadata": {
        "id": "RfTnti5btLSV",
        "colab_type": "code",
        "colab": {}
      },
      "source": [
        "df['classLabel'].replace({'yes.':1,'no.':0},inplace=True)\n",
        "y = df['classLabel']\n",
        "data = df.drop(['classLabel','variable18','variable2','variable3','variable8'],axis=1)\n",
        "val_df['classLabel'].replace({'yes.':1,'no.':0},inplace=True)\n",
        "y_val = val_df['classLabel']\n",
        "val_data = val_df.drop(['classLabel','variable18','variable2','variable3','variable8'],axis=1)"
      ],
      "execution_count": null,
      "outputs": []
    },
    {
      "cell_type": "code",
      "metadata": {
        "id": "jw6uUfGKtggA",
        "colab_type": "code",
        "colab": {}
      },
      "source": [
        "for x in cat :\n",
        "  data[x].fillna(data[x].value_counts().idxmax(), inplace=True)\n",
        "  val_data[x].fillna(val_data[x].value_counts().idxmax(), inplace=True)"
      ],
      "execution_count": null,
      "outputs": []
    },
    {
      "cell_type": "code",
      "metadata": {
        "id": "ysAZZVuut5UA",
        "colab_type": "code",
        "colab": {}
      },
      "source": [
        "for i in num:\n",
        "  data[i].fillna(data[i].mean(), inplace=True)\n",
        "  val_data[i].fillna(val_data[i].mean(), inplace=True)"
      ],
      "execution_count": null,
      "outputs": []
    },
    {
      "cell_type": "code",
      "metadata": {
        "id": "JzX2QP7kuS-U",
        "colab_type": "code",
        "colab": {}
      },
      "source": [
        "sc = RobustScaler()\n",
        "data[num]= sc.fit_transform(data[num])\n",
        "val_data[num]= sc.fit_transform(val_data[num])"
      ],
      "execution_count": null,
      "outputs": []
    },
    {
      "cell_type": "code",
      "metadata": {
        "id": "87hcK5Z-vLQC",
        "colab_type": "code",
        "colab": {
          "base_uri": "https://localhost:8080/",
          "height": 218
        },
        "outputId": "bd8acf94-5ff6-4dd4-9481-bf7fb2b9fb54"
      },
      "source": [
        "data.head()"
      ],
      "execution_count": null,
      "outputs": [
        {
          "output_type": "execute_result",
          "data": {
            "text/html": [
              "<div>\n",
              "<style scoped>\n",
              "    .dataframe tbody tr th:only-of-type {\n",
              "        vertical-align: middle;\n",
              "    }\n",
              "\n",
              "    .dataframe tbody tr th {\n",
              "        vertical-align: top;\n",
              "    }\n",
              "\n",
              "    .dataframe thead th {\n",
              "        text-align: right;\n",
              "    }\n",
              "</style>\n",
              "<table border=\"1\" class=\"dataframe\">\n",
              "  <thead>\n",
              "    <tr style=\"text-align: right;\">\n",
              "      <th></th>\n",
              "      <th>variable1</th>\n",
              "      <th>variable4</th>\n",
              "      <th>variable5</th>\n",
              "      <th>variable6</th>\n",
              "      <th>variable7</th>\n",
              "      <th>variable9</th>\n",
              "      <th>variable10</th>\n",
              "      <th>variable11</th>\n",
              "      <th>variable12</th>\n",
              "      <th>variable13</th>\n",
              "      <th>variable14</th>\n",
              "      <th>variable15</th>\n",
              "      <th>variable17</th>\n",
              "      <th>variable19</th>\n",
              "    </tr>\n",
              "  </thead>\n",
              "  <tbody>\n",
              "    <tr>\n",
              "      <th>0</th>\n",
              "      <td>a</td>\n",
              "      <td>u</td>\n",
              "      <td>g</td>\n",
              "      <td>c</td>\n",
              "      <td>v</td>\n",
              "      <td>f</td>\n",
              "      <td>t</td>\n",
              "      <td>1</td>\n",
              "      <td>t</td>\n",
              "      <td>g</td>\n",
              "      <td>-0.145985</td>\n",
              "      <td>-0.101911</td>\n",
              "      <td>-0.145985</td>\n",
              "      <td>-1.0</td>\n",
              "    </tr>\n",
              "    <tr>\n",
              "      <th>1</th>\n",
              "      <td>b</td>\n",
              "      <td>y</td>\n",
              "      <td>p</td>\n",
              "      <td>k</td>\n",
              "      <td>v</td>\n",
              "      <td>f</td>\n",
              "      <td>f</td>\n",
              "      <td>0</td>\n",
              "      <td>f</td>\n",
              "      <td>s</td>\n",
              "      <td>0.291971</td>\n",
              "      <td>-0.106629</td>\n",
              "      <td>0.291971</td>\n",
              "      <td>-1.0</td>\n",
              "    </tr>\n",
              "    <tr>\n",
              "      <th>2</th>\n",
              "      <td>b</td>\n",
              "      <td>u</td>\n",
              "      <td>g</td>\n",
              "      <td>ff</td>\n",
              "      <td>ff</td>\n",
              "      <td>f</td>\n",
              "      <td>t</td>\n",
              "      <td>1</td>\n",
              "      <td>f</td>\n",
              "      <td>g</td>\n",
              "      <td>-0.087591</td>\n",
              "      <td>-0.088700</td>\n",
              "      <td>-0.087591</td>\n",
              "      <td>-1.0</td>\n",
              "    </tr>\n",
              "    <tr>\n",
              "      <th>3</th>\n",
              "      <td>a</td>\n",
              "      <td>u</td>\n",
              "      <td>g</td>\n",
              "      <td>i</td>\n",
              "      <td>o</td>\n",
              "      <td>f</td>\n",
              "      <td>f</td>\n",
              "      <td>0</td>\n",
              "      <td>f</td>\n",
              "      <td>g</td>\n",
              "      <td>-0.437956</td>\n",
              "      <td>0.006605</td>\n",
              "      <td>-0.437956</td>\n",
              "      <td>-1.0</td>\n",
              "    </tr>\n",
              "    <tr>\n",
              "      <th>4</th>\n",
              "      <td>b</td>\n",
              "      <td>u</td>\n",
              "      <td>g</td>\n",
              "      <td>k</td>\n",
              "      <td>v</td>\n",
              "      <td>f</td>\n",
              "      <td>f</td>\n",
              "      <td>0</td>\n",
              "      <td>t</td>\n",
              "      <td>g</td>\n",
              "      <td>0.408759</td>\n",
              "      <td>-0.106629</td>\n",
              "      <td>0.408759</td>\n",
              "      <td>-1.0</td>\n",
              "    </tr>\n",
              "  </tbody>\n",
              "</table>\n",
              "</div>"
            ],
            "text/plain": [
              "  variable1 variable4 variable5  ... variable15 variable17 variable19\n",
              "0         a         u         g  ...  -0.101911  -0.145985       -1.0\n",
              "1         b         y         p  ...  -0.106629   0.291971       -1.0\n",
              "2         b         u         g  ...  -0.088700  -0.087591       -1.0\n",
              "3         a         u         g  ...   0.006605  -0.437956       -1.0\n",
              "4         b         u         g  ...  -0.106629   0.408759       -1.0\n",
              "\n",
              "[5 rows x 14 columns]"
            ]
          },
          "metadata": {
            "tags": []
          },
          "execution_count": 67
        }
      ]
    },
    {
      "cell_type": "code",
      "metadata": {
        "id": "AogGCSROvRSm",
        "colab_type": "code",
        "colab": {
          "base_uri": "https://localhost:8080/",
          "height": 218
        },
        "outputId": "3d1a5858-a244-4651-ebee-9f1938508f5f"
      },
      "source": [
        "ohe = OneHotEncoder()\n",
        "ohe.fit(data[cat])\n",
        "ohe_df = pd.DataFrame(ohe.transform(data[cat]).toarray())\n",
        "data= data.join(ohe_df)\n",
        "data= data.drop(cat,axis=1)\n",
        "data.head()"
      ],
      "execution_count": null,
      "outputs": [
        {
          "output_type": "execute_result",
          "data": {
            "text/html": [
              "<div>\n",
              "<style scoped>\n",
              "    .dataframe tbody tr th:only-of-type {\n",
              "        vertical-align: middle;\n",
              "    }\n",
              "\n",
              "    .dataframe tbody tr th {\n",
              "        vertical-align: top;\n",
              "    }\n",
              "\n",
              "    .dataframe thead th {\n",
              "        text-align: right;\n",
              "    }\n",
              "</style>\n",
              "<table border=\"1\" class=\"dataframe\">\n",
              "  <thead>\n",
              "    <tr style=\"text-align: right;\">\n",
              "      <th></th>\n",
              "      <th>variable11</th>\n",
              "      <th>variable14</th>\n",
              "      <th>variable15</th>\n",
              "      <th>variable17</th>\n",
              "      <th>variable19</th>\n",
              "      <th>0</th>\n",
              "      <th>1</th>\n",
              "      <th>2</th>\n",
              "      <th>3</th>\n",
              "      <th>4</th>\n",
              "      <th>5</th>\n",
              "      <th>6</th>\n",
              "      <th>7</th>\n",
              "      <th>8</th>\n",
              "      <th>9</th>\n",
              "      <th>10</th>\n",
              "      <th>11</th>\n",
              "      <th>12</th>\n",
              "      <th>13</th>\n",
              "      <th>14</th>\n",
              "      <th>15</th>\n",
              "      <th>16</th>\n",
              "      <th>17</th>\n",
              "      <th>18</th>\n",
              "      <th>19</th>\n",
              "      <th>20</th>\n",
              "      <th>21</th>\n",
              "      <th>22</th>\n",
              "      <th>23</th>\n",
              "      <th>24</th>\n",
              "      <th>25</th>\n",
              "      <th>26</th>\n",
              "      <th>27</th>\n",
              "      <th>28</th>\n",
              "      <th>29</th>\n",
              "      <th>30</th>\n",
              "      <th>31</th>\n",
              "      <th>32</th>\n",
              "      <th>33</th>\n",
              "      <th>34</th>\n",
              "      <th>35</th>\n",
              "      <th>36</th>\n",
              "      <th>37</th>\n",
              "      <th>38</th>\n",
              "      <th>39</th>\n",
              "    </tr>\n",
              "  </thead>\n",
              "  <tbody>\n",
              "    <tr>\n",
              "      <th>0</th>\n",
              "      <td>1</td>\n",
              "      <td>-0.145985</td>\n",
              "      <td>-0.101911</td>\n",
              "      <td>-0.145985</td>\n",
              "      <td>-1.0</td>\n",
              "      <td>1.0</td>\n",
              "      <td>0.0</td>\n",
              "      <td>0.0</td>\n",
              "      <td>1.0</td>\n",
              "      <td>0.0</td>\n",
              "      <td>1.0</td>\n",
              "      <td>0.0</td>\n",
              "      <td>0.0</td>\n",
              "      <td>0.0</td>\n",
              "      <td>0.0</td>\n",
              "      <td>1.0</td>\n",
              "      <td>0.0</td>\n",
              "      <td>0.0</td>\n",
              "      <td>0.0</td>\n",
              "      <td>0.0</td>\n",
              "      <td>0.0</td>\n",
              "      <td>0.0</td>\n",
              "      <td>0.0</td>\n",
              "      <td>0.0</td>\n",
              "      <td>0.0</td>\n",
              "      <td>0.0</td>\n",
              "      <td>0.0</td>\n",
              "      <td>0.0</td>\n",
              "      <td>0.0</td>\n",
              "      <td>0.0</td>\n",
              "      <td>0.0</td>\n",
              "      <td>0.0</td>\n",
              "      <td>0.0</td>\n",
              "      <td>0.0</td>\n",
              "      <td>1.0</td>\n",
              "      <td>0.0</td>\n",
              "      <td>1.0</td>\n",
              "      <td>0.0</td>\n",
              "      <td>0.0</td>\n",
              "      <td>1.0</td>\n",
              "      <td>0.0</td>\n",
              "      <td>1.0</td>\n",
              "      <td>1.0</td>\n",
              "      <td>0.0</td>\n",
              "      <td>0.0</td>\n",
              "    </tr>\n",
              "    <tr>\n",
              "      <th>1</th>\n",
              "      <td>0</td>\n",
              "      <td>0.291971</td>\n",
              "      <td>-0.106629</td>\n",
              "      <td>0.291971</td>\n",
              "      <td>-1.0</td>\n",
              "      <td>0.0</td>\n",
              "      <td>1.0</td>\n",
              "      <td>0.0</td>\n",
              "      <td>0.0</td>\n",
              "      <td>1.0</td>\n",
              "      <td>0.0</td>\n",
              "      <td>0.0</td>\n",
              "      <td>1.0</td>\n",
              "      <td>0.0</td>\n",
              "      <td>0.0</td>\n",
              "      <td>0.0</td>\n",
              "      <td>0.0</td>\n",
              "      <td>0.0</td>\n",
              "      <td>0.0</td>\n",
              "      <td>0.0</td>\n",
              "      <td>0.0</td>\n",
              "      <td>0.0</td>\n",
              "      <td>1.0</td>\n",
              "      <td>0.0</td>\n",
              "      <td>0.0</td>\n",
              "      <td>0.0</td>\n",
              "      <td>0.0</td>\n",
              "      <td>0.0</td>\n",
              "      <td>0.0</td>\n",
              "      <td>0.0</td>\n",
              "      <td>0.0</td>\n",
              "      <td>0.0</td>\n",
              "      <td>0.0</td>\n",
              "      <td>0.0</td>\n",
              "      <td>1.0</td>\n",
              "      <td>0.0</td>\n",
              "      <td>1.0</td>\n",
              "      <td>0.0</td>\n",
              "      <td>1.0</td>\n",
              "      <td>0.0</td>\n",
              "      <td>1.0</td>\n",
              "      <td>0.0</td>\n",
              "      <td>0.0</td>\n",
              "      <td>0.0</td>\n",
              "      <td>1.0</td>\n",
              "    </tr>\n",
              "    <tr>\n",
              "      <th>2</th>\n",
              "      <td>1</td>\n",
              "      <td>-0.087591</td>\n",
              "      <td>-0.088700</td>\n",
              "      <td>-0.087591</td>\n",
              "      <td>-1.0</td>\n",
              "      <td>0.0</td>\n",
              "      <td>1.0</td>\n",
              "      <td>0.0</td>\n",
              "      <td>1.0</td>\n",
              "      <td>0.0</td>\n",
              "      <td>1.0</td>\n",
              "      <td>0.0</td>\n",
              "      <td>0.0</td>\n",
              "      <td>0.0</td>\n",
              "      <td>0.0</td>\n",
              "      <td>0.0</td>\n",
              "      <td>0.0</td>\n",
              "      <td>0.0</td>\n",
              "      <td>0.0</td>\n",
              "      <td>1.0</td>\n",
              "      <td>0.0</td>\n",
              "      <td>0.0</td>\n",
              "      <td>0.0</td>\n",
              "      <td>0.0</td>\n",
              "      <td>0.0</td>\n",
              "      <td>0.0</td>\n",
              "      <td>0.0</td>\n",
              "      <td>0.0</td>\n",
              "      <td>0.0</td>\n",
              "      <td>1.0</td>\n",
              "      <td>0.0</td>\n",
              "      <td>0.0</td>\n",
              "      <td>0.0</td>\n",
              "      <td>0.0</td>\n",
              "      <td>0.0</td>\n",
              "      <td>0.0</td>\n",
              "      <td>1.0</td>\n",
              "      <td>0.0</td>\n",
              "      <td>0.0</td>\n",
              "      <td>1.0</td>\n",
              "      <td>1.0</td>\n",
              "      <td>0.0</td>\n",
              "      <td>1.0</td>\n",
              "      <td>0.0</td>\n",
              "      <td>0.0</td>\n",
              "    </tr>\n",
              "    <tr>\n",
              "      <th>3</th>\n",
              "      <td>0</td>\n",
              "      <td>-0.437956</td>\n",
              "      <td>0.006605</td>\n",
              "      <td>-0.437956</td>\n",
              "      <td>-1.0</td>\n",
              "      <td>1.0</td>\n",
              "      <td>0.0</td>\n",
              "      <td>0.0</td>\n",
              "      <td>1.0</td>\n",
              "      <td>0.0</td>\n",
              "      <td>1.0</td>\n",
              "      <td>0.0</td>\n",
              "      <td>0.0</td>\n",
              "      <td>0.0</td>\n",
              "      <td>0.0</td>\n",
              "      <td>0.0</td>\n",
              "      <td>0.0</td>\n",
              "      <td>0.0</td>\n",
              "      <td>0.0</td>\n",
              "      <td>0.0</td>\n",
              "      <td>1.0</td>\n",
              "      <td>0.0</td>\n",
              "      <td>0.0</td>\n",
              "      <td>0.0</td>\n",
              "      <td>0.0</td>\n",
              "      <td>0.0</td>\n",
              "      <td>0.0</td>\n",
              "      <td>0.0</td>\n",
              "      <td>0.0</td>\n",
              "      <td>0.0</td>\n",
              "      <td>0.0</td>\n",
              "      <td>0.0</td>\n",
              "      <td>0.0</td>\n",
              "      <td>1.0</td>\n",
              "      <td>0.0</td>\n",
              "      <td>0.0</td>\n",
              "      <td>1.0</td>\n",
              "      <td>0.0</td>\n",
              "      <td>1.0</td>\n",
              "      <td>0.0</td>\n",
              "      <td>1.0</td>\n",
              "      <td>0.0</td>\n",
              "      <td>1.0</td>\n",
              "      <td>0.0</td>\n",
              "      <td>0.0</td>\n",
              "    </tr>\n",
              "    <tr>\n",
              "      <th>4</th>\n",
              "      <td>0</td>\n",
              "      <td>0.408759</td>\n",
              "      <td>-0.106629</td>\n",
              "      <td>0.408759</td>\n",
              "      <td>-1.0</td>\n",
              "      <td>0.0</td>\n",
              "      <td>1.0</td>\n",
              "      <td>0.0</td>\n",
              "      <td>1.0</td>\n",
              "      <td>0.0</td>\n",
              "      <td>1.0</td>\n",
              "      <td>0.0</td>\n",
              "      <td>0.0</td>\n",
              "      <td>0.0</td>\n",
              "      <td>0.0</td>\n",
              "      <td>0.0</td>\n",
              "      <td>0.0</td>\n",
              "      <td>0.0</td>\n",
              "      <td>0.0</td>\n",
              "      <td>0.0</td>\n",
              "      <td>0.0</td>\n",
              "      <td>0.0</td>\n",
              "      <td>1.0</td>\n",
              "      <td>0.0</td>\n",
              "      <td>0.0</td>\n",
              "      <td>0.0</td>\n",
              "      <td>0.0</td>\n",
              "      <td>0.0</td>\n",
              "      <td>0.0</td>\n",
              "      <td>0.0</td>\n",
              "      <td>0.0</td>\n",
              "      <td>0.0</td>\n",
              "      <td>0.0</td>\n",
              "      <td>0.0</td>\n",
              "      <td>1.0</td>\n",
              "      <td>0.0</td>\n",
              "      <td>1.0</td>\n",
              "      <td>0.0</td>\n",
              "      <td>1.0</td>\n",
              "      <td>0.0</td>\n",
              "      <td>0.0</td>\n",
              "      <td>1.0</td>\n",
              "      <td>1.0</td>\n",
              "      <td>0.0</td>\n",
              "      <td>0.0</td>\n",
              "    </tr>\n",
              "  </tbody>\n",
              "</table>\n",
              "</div>"
            ],
            "text/plain": [
              "   variable11  variable14  variable15  variable17  ...   36   37   38   39\n",
              "0           1   -0.145985   -0.101911   -0.145985  ...  1.0  1.0  0.0  0.0\n",
              "1           0    0.291971   -0.106629    0.291971  ...  0.0  0.0  0.0  1.0\n",
              "2           1   -0.087591   -0.088700   -0.087591  ...  0.0  1.0  0.0  0.0\n",
              "3           0   -0.437956    0.006605   -0.437956  ...  0.0  1.0  0.0  0.0\n",
              "4           0    0.408759   -0.106629    0.408759  ...  1.0  1.0  0.0  0.0\n",
              "\n",
              "[5 rows x 45 columns]"
            ]
          },
          "metadata": {
            "tags": []
          },
          "execution_count": 68
        }
      ]
    },
    {
      "cell_type": "code",
      "metadata": {
        "id": "kCT7UT2ov5Sp",
        "colab_type": "code",
        "colab": {}
      },
      "source": [
        "ohe_val = pd.DataFrame(ohe.transform(val_data[cat]).toarray())\n",
        "val_data= val_data.join(ohe_val)\n",
        "val_data= val_data.drop(cat,axis=1)"
      ],
      "execution_count": null,
      "outputs": []
    },
    {
      "cell_type": "markdown",
      "metadata": {
        "id": "roAAabowBPJq",
        "colab_type": "text"
      },
      "source": [
        "# **Model**\n",
        "- split data in train and test with stratify the target to little overcome the imbalanced data problem \n",
        "-using Svm classifier to train and evaluate it on the validation data \n",
        "  - using class_weight to overcome the imbalanced \n",
        "  - f1 metric is good metric to use with imbalanced data \n",
        "  - can use GridSearchCv to try the other kernel for svm and other degree or gamma but poly kernel with degree =2 achieve good  accuracy "
      ]
    },
    {
      "cell_type": "code",
      "metadata": {
        "id": "sX_8m4f8zGih",
        "colab_type": "code",
        "colab": {}
      },
      "source": [
        "X_train, X_test, y_train, y_test = train_test_split(data,y,test_size=.33,random_state=42,stratify=y)  "
      ],
      "execution_count": null,
      "outputs": []
    },
    {
      "cell_type": "code",
      "metadata": {
        "id": "RcoamfngwMSy",
        "colab_type": "code",
        "colab": {
          "base_uri": "https://localhost:8080/",
          "height": 90
        },
        "outputId": "d1ee8e90-172f-4ce3-87a6-93bd4e278f3e"
      },
      "source": [
        "clf= SVC(kernel='poly',degree=2,class_weight='balanced')\n",
        "clf.fit(X_train,y_train)"
      ],
      "execution_count": null,
      "outputs": [
        {
          "output_type": "execute_result",
          "data": {
            "text/plain": [
              "SVC(C=1.0, break_ties=False, cache_size=200, class_weight='balanced', coef0=0.0,\n",
              "    decision_function_shape='ovr', degree=2, gamma='scale', kernel='poly',\n",
              "    max_iter=-1, probability=False, random_state=None, shrinking=True,\n",
              "    tol=0.001, verbose=False)"
            ]
          },
          "metadata": {
            "tags": []
          },
          "execution_count": 97
        }
      ]
    },
    {
      "cell_type": "code",
      "metadata": {
        "id": "FkQKMkZmwstC",
        "colab_type": "code",
        "colab": {
          "base_uri": "https://localhost:8080/",
          "height": 217
        },
        "outputId": "bf1859a1-8ba2-43cc-ab73-6cc86b946091"
      },
      "source": [
        "y_pred = clf.predict(X_test)\n",
        "print(confusion_matrix(y_test,y_pred))\n",
        "print(classification_report(y_test,y_pred))"
      ],
      "execution_count": null,
      "outputs": [
        {
          "output_type": "stream",
          "text": [
            "[[ 90   1]\n",
            " [299 831]]\n",
            "              precision    recall  f1-score   support\n",
            "\n",
            "           0       0.23      0.99      0.38        91\n",
            "           1       1.00      0.74      0.85      1130\n",
            "\n",
            "    accuracy                           0.75      1221\n",
            "   macro avg       0.62      0.86      0.61      1221\n",
            "weighted avg       0.94      0.75      0.81      1221\n",
            "\n"
          ],
          "name": "stdout"
        }
      ]
    },
    {
      "cell_type": "code",
      "metadata": {
        "id": "itznd7Vn0VVR",
        "colab_type": "code",
        "colab": {
          "base_uri": "https://localhost:8080/",
          "height": 235
        },
        "outputId": "8ee8aa17-c681-4313-bd6f-49503f42991f"
      },
      "source": [
        "print(clf.score(val_data,y_val))\n",
        "y_val_pred = clf.predict(val_data)\n",
        "print(confusion_matrix(y_val,y_val_pred))\n",
        "print(classification_report(y_val,y_val_pred))"
      ],
      "execution_count": null,
      "outputs": [
        {
          "output_type": "stream",
          "text": [
            "0.825\n",
            "[[86 21]\n",
            " [14 79]]\n",
            "              precision    recall  f1-score   support\n",
            "\n",
            "           0       0.86      0.80      0.83       107\n",
            "           1       0.79      0.85      0.82        93\n",
            "\n",
            "    accuracy                           0.82       200\n",
            "   macro avg       0.82      0.83      0.82       200\n",
            "weighted avg       0.83      0.82      0.83       200\n",
            "\n"
          ],
          "name": "stdout"
        }
      ]
    },
    {
      "cell_type": "code",
      "metadata": {
        "id": "_uZIhI3BGNYE",
        "colab_type": "code",
        "colab": {}
      },
      "source": [
        ""
      ],
      "execution_count": null,
      "outputs": []
    }
  ]
}